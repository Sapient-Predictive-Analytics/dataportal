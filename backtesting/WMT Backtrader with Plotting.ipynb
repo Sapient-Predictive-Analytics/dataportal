{
 "cells": [
  {
   "cell_type": "markdown",
   "id": "446f76d6-9b98-4b72-840b-2231fa23ef14",
   "metadata": {},
   "source": [
    "# WMT Backtesting Strategy\r\n",
    "\r\n",
    "## Introduction\r\n",
    "\r\n",
    "This notebook demonstrates a simple backtesting strategy for WMT (Walmart) stock using the Backtrader library. We'll progressively build up our script in three stages:\r\n",
    "\r\n",
    "1. Basic strategy execution without plotting or detailed output\r\n",
    "2. Strategy execution with a summary table\r\n",
    "3. Full strategy execution with plotting and summary table\r\n",
    "\r\n",
    "Let's begin with the imports and strategy definition that will be common to all threeversions:\r\n"
   ]
  },
  {
   "cell_type": "code",
   "execution_count": 2,
   "id": "5dd04193-f3bb-4109-8800-e64d88805da2",
   "metadata": {},
   "outputs": [],
   "source": [
    "import backtrader as bt\n",
    "import pandas as pd\n",
    "import numpy as np\n",
    "from datetime import datetime\n",
    "import matplotlib.pyplot as plt\n",
    "import matplotlib.dates as mdates\n",
    "from tabulate import tabulate\n",
    "\n",
    "class SimpleStrategy(bt.Strategy):\n",
    "    params = (\n",
    "        ('sma_period', 20),\n",
    "    )\n",
    "\n",
    "    def __init__(self):\n",
    "        self.sma = bt.indicators.SimpleMovingAverage(self.data.close, period=self.params.sma_period)\n",
    "        self.order = None\n",
    "        self.trade_log = []\n",
    "        self.portfolio_value = []\n",
    "\n",
    "    def next(self):\n",
    "        market_value = self.position.size * self.data.close[0] if self.position else 0\n",
    "        self.portfolio_value.append(self.broker.getcash() + market_value)\n",
    "\n",
    "        if self.order:\n",
    "            return\n",
    "\n",
    "        if not self.position:\n",
    "            if self.data.close[0] > self.sma[0]:\n",
    "                available_cash = self.broker.getcash()\n",
    "                max_size = int(available_cash / self.data.close[0])\n",
    "                self.order = self.buy(size=max_size)\n",
    "        else:\n",
    "            if self.data.close[0] < self.sma[0]:\n",
    "                self.order = self.sell(size=self.position.size)\n",
    "\n",
    "    def notify_order(self, order):\n",
    "        if order.status in [order.Completed]:\n",
    "            if order.isbuy():\n",
    "                self.log_trade(\"BUY\", order.executed.size, order.executed.price)\n",
    "            elif order.issell():\n",
    "                self.log_trade(\"SELL\", order.executed.size, order.executed.price)\n",
    "        self.order = None\n",
    "\n",
    "    def log_trade(self, order_type, size, price):\n",
    "        self.trade_log.append({\n",
    "            'date': self.data.datetime.date(0),\n",
    "            'type': order_type,\n",
    "            'price': price,\n",
    "            'size': size,\n",
    "            'portfolio_value': self.portfolio_value[-1],\n",
    "            'position': self.position.size\n",
    "        })"
   ]
  },
  {
   "cell_type": "markdown",
   "id": "de6be594-4dc5-4c6d-9a4c-203cb8085800",
   "metadata": {},
   "source": [
    "## Stage 1: Basic Strategy Execution\n",
    "\n",
    "In this first stage, we'll run the strategy without any detailed output or plotting. We'll only print the final portfolio value.\n"
   ]
  },
  {
   "cell_type": "code",
   "execution_count": 3,
   "id": "8650b030-dac5-4249-963c-c0949ee22d76",
   "metadata": {},
   "outputs": [
    {
     "name": "stdout",
     "output_type": "stream",
     "text": [
      "Final Portfolio Value: 100000.00 ADA\n"
     ]
    }
   ],
   "source": [
    "# Load data\n",
    "data = pd.read_csv('WMT.csv')\n",
    "data.set_index(pd.to_datetime(data.iloc[:, 0]), inplace=True)\n",
    "data.index.name = 'date'\n",
    "\n",
    "# Create and run a Cerebro engine\n",
    "cerebro = bt.Cerebro()\n",
    "cerebro.adddata(bt.feeds.PandasData(dataname=data))\n",
    "cerebro.addstrategy(SimpleStrategy)\n",
    "\n",
    "# Set initial cash\n",
    "initial_cash = 100000.0\n",
    "cerebro.broker.setcash(initial_cash)\n",
    "\n",
    "# Run the strategy\n",
    "results = cerebro.run()\n",
    "strategy = results[0]\n",
    "\n",
    "# Print final portfolio value\n",
    "final_value = strategy.portfolio_value[-1] if strategy.portfolio_value else initial_cash\n",
    "print(f'Final Portfolio Value: {final_value:.2f} ADA')"
   ]
  },
  {
   "cell_type": "markdown",
   "id": "4d85ef21-bb09-4a4c-af1b-a2b17678a50e",
   "metadata": {},
   "source": [
    "## Stage 2: Strategy Execution with Summary Table\r\n",
    "\r\n",
    "In this stage, we'll add a summary table that shows all the trades made during the backtesting period."
   ]
  },
  {
   "cell_type": "code",
   "execution_count": 5,
   "id": "41327753-06a0-4805-a7e9-e8cbc55a1d7c",
   "metadata": {},
   "outputs": [
    {
     "name": "stdout",
     "output_type": "stream",
     "text": [
      "\n",
      "Trade Summary Table:\n",
      "+--------+--------+---------+--------+-------------------+------------+\n",
      "| Date   | Type   | Price   | Size   | Portfolio Value   | Position   |\n",
      "+========+========+=========+========+===================+============+\n",
      "+--------+--------+---------+--------+-------------------+------------+\n",
      "\n",
      "Initial Portfolio Value: 100000.00 ADA\n",
      "Final Portfolio Value: 100000.00 ADA\n",
      "Total Profit/Loss: 0.00 ADA\n",
      "Total Return: 0.00%\n"
     ]
    }
   ],
   "source": [
    "# Load data and run strategy (same as Stage 1)\n",
    "data = pd.read_csv('WMT.csv')\n",
    "data.set_index(pd.to_datetime(data.iloc[:, 0]), inplace=True)\n",
    "data.index.name = 'date'\n",
    "cerebro = bt.Cerebro()\n",
    "cerebro.adddata(bt.feeds.PandasData(dataname=data))\n",
    "cerebro.addstrategy(SimpleStrategy)\n",
    "initial_cash = 100000.0\n",
    "cerebro.broker.setcash(initial_cash)\n",
    "results = cerebro.run()\n",
    "strategy = results[0]\n",
    "\n",
    "# Print trade summary table\n",
    "print(\"\\nTrade Summary Table:\")\n",
    "table_data = [\n",
    "    [trade['date'], trade['type'], f\"{trade['price']:.2f} ADA\", trade['size'],\n",
    "     f\"{trade['portfolio_value']:.2f} ADA\", trade['position']]\n",
    "    for trade in strategy.trade_log\n",
    "]\n",
    "headers = [\"Date\", \"Type\", \"Price\", \"Size\", \"Portfolio Value\", \"Position\"]\n",
    "print(tabulate(table_data, headers=headers, tablefmt=\"grid\"))\n",
    "\n",
    "# Print performance summary\n",
    "final_value = strategy.portfolio_value[-1] if strategy.portfolio_value else initial_cash\n",
    "total_pnl = final_value - initial_cash\n",
    "total_return = (final_value - initial_cash) / initial_cash\n",
    "\n",
    "print(f'\\nInitial Portfolio Value: {initial_cash:.2f} ADA')\n",
    "print(f'Final Portfolio Value: {final_value:.2f} ADA')\n",
    "print(f'Total Profit/Loss: {total_pnl:.2f} ADA')\n",
    "print(f'Total Return: {total_return:.2%}')"
   ]
  },
  {
   "cell_type": "markdown",
   "id": "0ae50296-7414-4c59-a141-43b99fa8bd5b",
   "metadata": {},
   "source": [
    "## Stage 3: Full Strategy Execution with Plotting\r\n",
    "\r\n",
    "In this final stage, we'll add a visualization of the WMT price, the Simple Moving Average (SMA), and the portfolio value over time.\r\n"
   ]
  },
  {
   "cell_type": "code",
   "execution_count": 4,
   "id": "82732cdb-72b0-4316-aabc-18dad9a6bec4",
   "metadata": {},
   "outputs": [
    {
     "ename": "ValueError",
     "evalue": "Missing column provided to 'parse_dates': 'date'",
     "output_type": "error",
     "traceback": [
      "\u001b[1;31m---------------------------------------------------------------------------\u001b[0m",
      "\u001b[1;31mValueError\u001b[0m                                Traceback (most recent call last)",
      "Cell \u001b[1;32mIn[4], line 41\u001b[0m\n\u001b[0;32m     38\u001b[0m     plt\u001b[38;5;241m.\u001b[39mshow()\n\u001b[0;32m     40\u001b[0m \u001b[38;5;66;03m# Load data and run strategy (same as before)\u001b[39;00m\n\u001b[1;32m---> 41\u001b[0m data \u001b[38;5;241m=\u001b[39m pd\u001b[38;5;241m.\u001b[39mread_csv(\u001b[38;5;124m'\u001b[39m\u001b[38;5;124mWMT.csv\u001b[39m\u001b[38;5;124m'\u001b[39m, parse_dates\u001b[38;5;241m=\u001b[39m[\u001b[38;5;124m'\u001b[39m\u001b[38;5;124mdate\u001b[39m\u001b[38;5;124m'\u001b[39m], index_col\u001b[38;5;241m=\u001b[39m\u001b[38;5;124m'\u001b[39m\u001b[38;5;124mdate\u001b[39m\u001b[38;5;124m'\u001b[39m)\n\u001b[0;32m     42\u001b[0m cerebro \u001b[38;5;241m=\u001b[39m bt\u001b[38;5;241m.\u001b[39mCerebro()\n\u001b[0;32m     43\u001b[0m cerebro\u001b[38;5;241m.\u001b[39madddata(bt\u001b[38;5;241m.\u001b[39mfeeds\u001b[38;5;241m.\u001b[39mPandasData(dataname\u001b[38;5;241m=\u001b[39mdata))\n",
      "File \u001b[1;32m~\\anaconda3\\envs\\zippy\\Lib\\site-packages\\pandas\\io\\parsers\\readers.py:1026\u001b[0m, in \u001b[0;36mread_csv\u001b[1;34m(filepath_or_buffer, sep, delimiter, header, names, index_col, usecols, dtype, engine, converters, true_values, false_values, skipinitialspace, skiprows, skipfooter, nrows, na_values, keep_default_na, na_filter, verbose, skip_blank_lines, parse_dates, infer_datetime_format, keep_date_col, date_parser, date_format, dayfirst, cache_dates, iterator, chunksize, compression, thousands, decimal, lineterminator, quotechar, quoting, doublequote, escapechar, comment, encoding, encoding_errors, dialect, on_bad_lines, delim_whitespace, low_memory, memory_map, float_precision, storage_options, dtype_backend)\u001b[0m\n\u001b[0;32m   1013\u001b[0m kwds_defaults \u001b[38;5;241m=\u001b[39m _refine_defaults_read(\n\u001b[0;32m   1014\u001b[0m     dialect,\n\u001b[0;32m   1015\u001b[0m     delimiter,\n\u001b[1;32m   (...)\u001b[0m\n\u001b[0;32m   1022\u001b[0m     dtype_backend\u001b[38;5;241m=\u001b[39mdtype_backend,\n\u001b[0;32m   1023\u001b[0m )\n\u001b[0;32m   1024\u001b[0m kwds\u001b[38;5;241m.\u001b[39mupdate(kwds_defaults)\n\u001b[1;32m-> 1026\u001b[0m \u001b[38;5;28;01mreturn\u001b[39;00m _read(filepath_or_buffer, kwds)\n",
      "File \u001b[1;32m~\\anaconda3\\envs\\zippy\\Lib\\site-packages\\pandas\\io\\parsers\\readers.py:620\u001b[0m, in \u001b[0;36m_read\u001b[1;34m(filepath_or_buffer, kwds)\u001b[0m\n\u001b[0;32m    617\u001b[0m _validate_names(kwds\u001b[38;5;241m.\u001b[39mget(\u001b[38;5;124m\"\u001b[39m\u001b[38;5;124mnames\u001b[39m\u001b[38;5;124m\"\u001b[39m, \u001b[38;5;28;01mNone\u001b[39;00m))\n\u001b[0;32m    619\u001b[0m \u001b[38;5;66;03m# Create the parser.\u001b[39;00m\n\u001b[1;32m--> 620\u001b[0m parser \u001b[38;5;241m=\u001b[39m TextFileReader(filepath_or_buffer, \u001b[38;5;241m*\u001b[39m\u001b[38;5;241m*\u001b[39mkwds)\n\u001b[0;32m    622\u001b[0m \u001b[38;5;28;01mif\u001b[39;00m chunksize \u001b[38;5;129;01mor\u001b[39;00m iterator:\n\u001b[0;32m    623\u001b[0m     \u001b[38;5;28;01mreturn\u001b[39;00m parser\n",
      "File \u001b[1;32m~\\anaconda3\\envs\\zippy\\Lib\\site-packages\\pandas\\io\\parsers\\readers.py:1620\u001b[0m, in \u001b[0;36mTextFileReader.__init__\u001b[1;34m(self, f, engine, **kwds)\u001b[0m\n\u001b[0;32m   1617\u001b[0m     \u001b[38;5;28mself\u001b[39m\u001b[38;5;241m.\u001b[39moptions[\u001b[38;5;124m\"\u001b[39m\u001b[38;5;124mhas_index_names\u001b[39m\u001b[38;5;124m\"\u001b[39m] \u001b[38;5;241m=\u001b[39m kwds[\u001b[38;5;124m\"\u001b[39m\u001b[38;5;124mhas_index_names\u001b[39m\u001b[38;5;124m\"\u001b[39m]\n\u001b[0;32m   1619\u001b[0m \u001b[38;5;28mself\u001b[39m\u001b[38;5;241m.\u001b[39mhandles: IOHandles \u001b[38;5;241m|\u001b[39m \u001b[38;5;28;01mNone\u001b[39;00m \u001b[38;5;241m=\u001b[39m \u001b[38;5;28;01mNone\u001b[39;00m\n\u001b[1;32m-> 1620\u001b[0m \u001b[38;5;28mself\u001b[39m\u001b[38;5;241m.\u001b[39m_engine \u001b[38;5;241m=\u001b[39m \u001b[38;5;28mself\u001b[39m\u001b[38;5;241m.\u001b[39m_make_engine(f, \u001b[38;5;28mself\u001b[39m\u001b[38;5;241m.\u001b[39mengine)\n",
      "File \u001b[1;32m~\\anaconda3\\envs\\zippy\\Lib\\site-packages\\pandas\\io\\parsers\\readers.py:1898\u001b[0m, in \u001b[0;36mTextFileReader._make_engine\u001b[1;34m(self, f, engine)\u001b[0m\n\u001b[0;32m   1895\u001b[0m     \u001b[38;5;28;01mraise\u001b[39;00m \u001b[38;5;167;01mValueError\u001b[39;00m(msg)\n\u001b[0;32m   1897\u001b[0m \u001b[38;5;28;01mtry\u001b[39;00m:\n\u001b[1;32m-> 1898\u001b[0m     \u001b[38;5;28;01mreturn\u001b[39;00m mapping[engine](f, \u001b[38;5;241m*\u001b[39m\u001b[38;5;241m*\u001b[39m\u001b[38;5;28mself\u001b[39m\u001b[38;5;241m.\u001b[39moptions)\n\u001b[0;32m   1899\u001b[0m \u001b[38;5;28;01mexcept\u001b[39;00m \u001b[38;5;167;01mException\u001b[39;00m:\n\u001b[0;32m   1900\u001b[0m     \u001b[38;5;28;01mif\u001b[39;00m \u001b[38;5;28mself\u001b[39m\u001b[38;5;241m.\u001b[39mhandles \u001b[38;5;129;01mis\u001b[39;00m \u001b[38;5;129;01mnot\u001b[39;00m \u001b[38;5;28;01mNone\u001b[39;00m:\n",
      "File \u001b[1;32m~\\anaconda3\\envs\\zippy\\Lib\\site-packages\\pandas\\io\\parsers\\c_parser_wrapper.py:161\u001b[0m, in \u001b[0;36mCParserWrapper.__init__\u001b[1;34m(self, src, **kwds)\u001b[0m\n\u001b[0;32m    155\u001b[0m         \u001b[38;5;28mself\u001b[39m\u001b[38;5;241m.\u001b[39m_validate_usecols_names(\n\u001b[0;32m    156\u001b[0m             usecols,\n\u001b[0;32m    157\u001b[0m             \u001b[38;5;28mself\u001b[39m\u001b[38;5;241m.\u001b[39mnames,  \u001b[38;5;66;03m# type: ignore[has-type]\u001b[39;00m\n\u001b[0;32m    158\u001b[0m         )\n\u001b[0;32m    160\u001b[0m \u001b[38;5;66;03m# error: Cannot determine type of 'names'\u001b[39;00m\n\u001b[1;32m--> 161\u001b[0m \u001b[38;5;28mself\u001b[39m\u001b[38;5;241m.\u001b[39m_validate_parse_dates_presence(\u001b[38;5;28mself\u001b[39m\u001b[38;5;241m.\u001b[39mnames)  \u001b[38;5;66;03m# type: ignore[has-type]\u001b[39;00m\n\u001b[0;32m    162\u001b[0m \u001b[38;5;28mself\u001b[39m\u001b[38;5;241m.\u001b[39m_set_noconvert_columns()\n\u001b[0;32m    164\u001b[0m \u001b[38;5;66;03m# error: Cannot determine type of 'names'\u001b[39;00m\n",
      "File \u001b[1;32m~\\anaconda3\\envs\\zippy\\Lib\\site-packages\\pandas\\io\\parsers\\base_parser.py:243\u001b[0m, in \u001b[0;36mParserBase._validate_parse_dates_presence\u001b[1;34m(self, columns)\u001b[0m\n\u001b[0;32m    233\u001b[0m missing_cols \u001b[38;5;241m=\u001b[39m \u001b[38;5;124m\"\u001b[39m\u001b[38;5;124m, \u001b[39m\u001b[38;5;124m\"\u001b[39m\u001b[38;5;241m.\u001b[39mjoin(\n\u001b[0;32m    234\u001b[0m     \u001b[38;5;28msorted\u001b[39m(\n\u001b[0;32m    235\u001b[0m         {\n\u001b[1;32m   (...)\u001b[0m\n\u001b[0;32m    240\u001b[0m     )\n\u001b[0;32m    241\u001b[0m )\n\u001b[0;32m    242\u001b[0m \u001b[38;5;28;01mif\u001b[39;00m missing_cols:\n\u001b[1;32m--> 243\u001b[0m     \u001b[38;5;28;01mraise\u001b[39;00m \u001b[38;5;167;01mValueError\u001b[39;00m(\n\u001b[0;32m    244\u001b[0m         \u001b[38;5;124mf\u001b[39m\u001b[38;5;124m\"\u001b[39m\u001b[38;5;124mMissing column provided to \u001b[39m\u001b[38;5;124m'\u001b[39m\u001b[38;5;124mparse_dates\u001b[39m\u001b[38;5;124m'\u001b[39m\u001b[38;5;124m: \u001b[39m\u001b[38;5;124m'\u001b[39m\u001b[38;5;132;01m{\u001b[39;00mmissing_cols\u001b[38;5;132;01m}\u001b[39;00m\u001b[38;5;124m'\u001b[39m\u001b[38;5;124m\"\u001b[39m\n\u001b[0;32m    245\u001b[0m     )\n\u001b[0;32m    246\u001b[0m \u001b[38;5;66;03m# Convert positions to actual column names\u001b[39;00m\n\u001b[0;32m    247\u001b[0m \u001b[38;5;28;01mreturn\u001b[39;00m [\n\u001b[0;32m    248\u001b[0m     col \u001b[38;5;28;01mif\u001b[39;00m (\u001b[38;5;28misinstance\u001b[39m(col, \u001b[38;5;28mstr\u001b[39m) \u001b[38;5;129;01mor\u001b[39;00m col \u001b[38;5;129;01min\u001b[39;00m columns) \u001b[38;5;28;01melse\u001b[39;00m columns[col]\n\u001b[0;32m    249\u001b[0m     \u001b[38;5;28;01mfor\u001b[39;00m col \u001b[38;5;129;01min\u001b[39;00m cols_needed\n\u001b[0;32m    250\u001b[0m ]\n",
      "\u001b[1;31mValueError\u001b[0m: Missing column provided to 'parse_dates': 'date'"
     ]
    }
   ],
   "source": [
    "def plot_results(data, strategy):\n",
    "    fig, (ax1, ax2) = plt.subplots(2, 1, figsize=(12, 10), gridspec_kw={'height_ratios': [2, 1]}, sharex=True)\n",
    "\n",
    "    portfolio_values = strategy.portfolio_value\n",
    "    \n",
    "    if len(portfolio_values) < len(data):\n",
    "        portfolio_values = [portfolio_values[0]] * (len(data) - len(portfolio_values)) + portfolio_values\n",
    "    elif len(portfolio_values) > len(data):\n",
    "        portfolio_values = portfolio_values[-len(data):]\n",
    "\n",
    "    ax1.plot(data.index, data['close'], label='Close Price')\n",
    "    \n",
    "    sma_values = strategy.sma.array\n",
    "    ax1.plot(data.index, sma_values, label='SMA')\n",
    "    \n",
    "    ax1.set_title('WMT Price and Trading Signal')\n",
    "    ax1.set_ylabel('Price (ADA)')\n",
    "    ax1.grid(True)\n",
    "    ax1.legend()\n",
    "\n",
    "    ax2.plot(data.index, portfolio_values, label='Portfolio Value', color='green')\n",
    "    ax2.set_title('Portfolio Value')\n",
    "    ax2.set_ylabel('Value (ADA)')\n",
    "    ax2.grid(True)\n",
    "    ax2.legend()\n",
    "\n",
    "    for trade in strategy.trade_log:\n",
    "        if trade['type'] == 'BUY':\n",
    "            ax1.scatter(trade['date'], trade['price'], marker='^', color='g', s=100)\n",
    "            ax2.scatter(trade['date'], trade['portfolio_value'], marker='^', color='g', s=100)\n",
    "        else:  # SELL\n",
    "            ax1.scatter(trade['date'], trade['price'], marker='v', color='r', s=100)\n",
    "            ax2.scatter(trade['date'], trade['portfolio_value'], marker='v', color='r', s=100)\n",
    "\n",
    "    plt.gca().xaxis.set_major_formatter(mdates.DateFormatter('%Y-%m-%d'))\n",
    "    plt.gcf().autofmt_xdate()\n",
    "    plt.tight_layout()\n",
    "    plt.show()\n",
    "\n",
    "# Load data and run strategy (same as before)\n",
    "data = pd.read_csv('WMT.csv', parse_dates=['date'], index_col='date')\n",
    "cerebro = bt.Cerebro()\n",
    "cerebro.adddata(bt.feeds.PandasData(dataname=data))\n",
    "cerebro.addstrategy(SimpleStrategy)\n",
    "initial_cash = 100000.0\n",
    "cerebro.broker.setcash(initial_cash)\n",
    "results = cerebro.run()\n",
    "strategy = results[0]\n",
    "\n",
    "# Plot results\n",
    "plot_results(data=data, strategy=strategy)\n",
    "\n",
    "# Print trade summary table and performance metrics (same as Stage 2)\n",
    "print(\"\\nTrade Summary Table:\")\n",
    "table_data = [\n",
    "    [trade['date'], trade['type'], f\"{trade['price']:.2f} ADA\", trade['size'],\n",
    "     f\"{trade['portfolio_value']:.2f} ADA\", trade['position']]\n",
    "    for trade in strategy.trade_log\n",
    "]\n",
    "headers = [\"Date\", \"Type\", \"Price\", \"Size\", \"Portfolio Value\", \"Position\"]\n",
    "print(tabulate(table_data, headers=headers, tablefmt=\"grid\"))\n",
    "\n",
    "final_value = strategy.portfolio_value[-1] if strategy.portfolio_value else initial_cash\n",
    "total_pnl = final_value - initial_cash\n",
    "total_return = (final_value - initial_cash) / initial_cash\n",
    "\n",
    "print(f'\\nInitial Portfolio Value: {initial_cash:.2f} ADA')\n",
    "print(f'Final Portfolio Value: {final_value:.2f} ADA')\n",
    "print(f'Total Profit/Loss: {total_pnl:.2f} ADA')\n",
    "print(f'Total Return: {total_return:.2%}')"
   ]
  },
  {
   "cell_type": "markdown",
   "id": "9c67635b-45ad-46d1-b1b0-5a5fee1adf25",
   "metadata": {},
   "source": [
    "This notebook provides a step-by-step demonstration of our WMT backtesting strategy, from basic execution to full visualization. Each stage builds upon the previous one, allowing for a clear understanding of how the different components contribute to the overall analysis."
   ]
  },
  {
   "cell_type": "code",
   "execution_count": null,
   "id": "14b33a99-5b0d-41a7-be20-28d947802334",
   "metadata": {},
   "outputs": [],
   "source": []
  }
 ],
 "metadata": {
  "kernelspec": {
   "display_name": "Python 3 (ipykernel)",
   "language": "python",
   "name": "python3"
  },
  "language_info": {
   "codemirror_mode": {
    "name": "ipython",
    "version": 3
   },
   "file_extension": ".py",
   "mimetype": "text/x-python",
   "name": "python",
   "nbconvert_exporter": "python",
   "pygments_lexer": "ipython3",
   "version": "3.11.9"
  }
 },
 "nbformat": 4,
 "nbformat_minor": 5
}
